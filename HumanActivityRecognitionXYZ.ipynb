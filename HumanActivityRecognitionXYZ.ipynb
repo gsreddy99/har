{
 "cells": [
  {
   "cell_type": "code",
   "execution_count": 127,
   "id": "a3dd50dd",
   "metadata": {},
   "outputs": [],
   "source": [
    "import numpy as np \n",
    "import pandas as pd \n",
    "import os\n",
    "import seaborn as sns\n",
    "import matplotlib.pyplot as plt"
   ]
  },
  {
   "cell_type": "code",
   "execution_count": 128,
   "id": "ab34257d",
   "metadata": {},
   "outputs": [],
   "source": [
    "import glob\n",
    "import pandas as pd\n",
    "\n",
    "files = glob.glob(\"TRAIN/*.csv\")\n",
    "dfs = [pd.read_csv(f) for f in files]\n",
    "#print(dfs)\n",
    "dfTrain = pd.concat(dfs,ignore_index=True)"
   ]
  },
  {
   "cell_type": "code",
   "execution_count": 129,
   "id": "a2a026cd",
   "metadata": {},
   "outputs": [
    {
     "data": {
      "text/html": [
       "<div>\n",
       "<style scoped>\n",
       "    .dataframe tbody tr th:only-of-type {\n",
       "        vertical-align: middle;\n",
       "    }\n",
       "\n",
       "    .dataframe tbody tr th {\n",
       "        vertical-align: top;\n",
       "    }\n",
       "\n",
       "    .dataframe thead th {\n",
       "        text-align: right;\n",
       "    }\n",
       "</style>\n",
       "<table border=\"1\" class=\"dataframe\">\n",
       "  <thead>\n",
       "    <tr style=\"text-align: right;\">\n",
       "      <th></th>\n",
       "      <th>timestamp</th>\n",
       "      <th>accX</th>\n",
       "      <th>accY</th>\n",
       "      <th>accZ</th>\n",
       "      <th>class</th>\n",
       "    </tr>\n",
       "  </thead>\n",
       "  <tbody>\n",
       "    <tr>\n",
       "      <th>0</th>\n",
       "      <td>90380.0</td>\n",
       "      <td>1807</td>\n",
       "      <td>2267</td>\n",
       "      <td>1857</td>\n",
       "      <td>5</td>\n",
       "    </tr>\n",
       "    <tr>\n",
       "      <th>1</th>\n",
       "      <td>90381.0</td>\n",
       "      <td>1803</td>\n",
       "      <td>2267</td>\n",
       "      <td>1853</td>\n",
       "      <td>5</td>\n",
       "    </tr>\n",
       "    <tr>\n",
       "      <th>2</th>\n",
       "      <td>90382.0</td>\n",
       "      <td>1801</td>\n",
       "      <td>2265</td>\n",
       "      <td>1854</td>\n",
       "      <td>5</td>\n",
       "    </tr>\n",
       "    <tr>\n",
       "      <th>3</th>\n",
       "      <td>90383.0</td>\n",
       "      <td>1796</td>\n",
       "      <td>2264</td>\n",
       "      <td>1855</td>\n",
       "      <td>5</td>\n",
       "    </tr>\n",
       "    <tr>\n",
       "      <th>4</th>\n",
       "      <td>90384.0</td>\n",
       "      <td>1803</td>\n",
       "      <td>2269</td>\n",
       "      <td>1854</td>\n",
       "      <td>5</td>\n",
       "    </tr>\n",
       "  </tbody>\n",
       "</table>\n",
       "</div>"
      ],
      "text/plain": [
       "   timestamp  accX  accY  accZ  class\n",
       "0    90380.0  1807  2267  1857      5\n",
       "1    90381.0  1803  2267  1853      5\n",
       "2    90382.0  1801  2265  1854      5\n",
       "3    90383.0  1796  2264  1855      5\n",
       "4    90384.0  1803  2269  1854      5"
      ]
     },
     "execution_count": 129,
     "metadata": {},
     "output_type": "execute_result"
    }
   ],
   "source": [
    "dfTrain.head()"
   ]
  },
  {
   "cell_type": "code",
   "execution_count": 130,
   "id": "cf5c5fa7",
   "metadata": {},
   "outputs": [],
   "source": [
    "files = glob.glob(\"TEST/*.csv\")\n",
    "dfs = [pd.read_csv(f) for f in files]\n",
    "#print(dfs)\n",
    "dfTest = pd.concat(dfs,ignore_index=True)"
   ]
  },
  {
   "cell_type": "code",
   "execution_count": 131,
   "id": "c4813dad",
   "metadata": {},
   "outputs": [
    {
     "data": {
      "text/html": [
       "<div>\n",
       "<style scoped>\n",
       "    .dataframe tbody tr th:only-of-type {\n",
       "        vertical-align: middle;\n",
       "    }\n",
       "\n",
       "    .dataframe tbody tr th {\n",
       "        vertical-align: top;\n",
       "    }\n",
       "\n",
       "    .dataframe thead th {\n",
       "        text-align: right;\n",
       "    }\n",
       "</style>\n",
       "<table border=\"1\" class=\"dataframe\">\n",
       "  <thead>\n",
       "    <tr style=\"text-align: right;\">\n",
       "      <th></th>\n",
       "      <th>timestamp</th>\n",
       "      <th>accX</th>\n",
       "      <th>accY</th>\n",
       "      <th>accZ</th>\n",
       "      <th>class</th>\n",
       "    </tr>\n",
       "  </thead>\n",
       "  <tbody>\n",
       "    <tr>\n",
       "      <th>0</th>\n",
       "      <td>73200.0</td>\n",
       "      <td>1915</td>\n",
       "      <td>2359</td>\n",
       "      <td>1940</td>\n",
       "      <td>5</td>\n",
       "    </tr>\n",
       "    <tr>\n",
       "      <th>1</th>\n",
       "      <td>73201.0</td>\n",
       "      <td>1913</td>\n",
       "      <td>2352</td>\n",
       "      <td>1946</td>\n",
       "      <td>5</td>\n",
       "    </tr>\n",
       "    <tr>\n",
       "      <th>2</th>\n",
       "      <td>73202.0</td>\n",
       "      <td>1913</td>\n",
       "      <td>2349</td>\n",
       "      <td>1939</td>\n",
       "      <td>5</td>\n",
       "    </tr>\n",
       "    <tr>\n",
       "      <th>3</th>\n",
       "      <td>73203.0</td>\n",
       "      <td>1907</td>\n",
       "      <td>2353</td>\n",
       "      <td>1943</td>\n",
       "      <td>5</td>\n",
       "    </tr>\n",
       "    <tr>\n",
       "      <th>4</th>\n",
       "      <td>73204.0</td>\n",
       "      <td>1915</td>\n",
       "      <td>2347</td>\n",
       "      <td>1942</td>\n",
       "      <td>5</td>\n",
       "    </tr>\n",
       "  </tbody>\n",
       "</table>\n",
       "</div>"
      ],
      "text/plain": [
       "   timestamp  accX  accY  accZ  class\n",
       "0    73200.0  1915  2359  1940      5\n",
       "1    73201.0  1913  2352  1946      5\n",
       "2    73202.0  1913  2349  1939      5\n",
       "3    73203.0  1907  2353  1943      5\n",
       "4    73204.0  1915  2347  1942      5"
      ]
     },
     "execution_count": 131,
     "metadata": {},
     "output_type": "execute_result"
    }
   ],
   "source": [
    "dfTest.head()"
   ]
  },
  {
   "cell_type": "code",
   "execution_count": 100,
   "id": "bb52b5a1",
   "metadata": {},
   "outputs": [],
   "source": [
    "#dfTrain.drop(['timestamp'] , axis = 1 , inplace = True)"
   ]
  },
  {
   "cell_type": "code",
   "execution_count": 132,
   "id": "52203acb",
   "metadata": {},
   "outputs": [
    {
     "data": {
      "text/html": [
       "<div>\n",
       "<style scoped>\n",
       "    .dataframe tbody tr th:only-of-type {\n",
       "        vertical-align: middle;\n",
       "    }\n",
       "\n",
       "    .dataframe tbody tr th {\n",
       "        vertical-align: top;\n",
       "    }\n",
       "\n",
       "    .dataframe thead th {\n",
       "        text-align: right;\n",
       "    }\n",
       "</style>\n",
       "<table border=\"1\" class=\"dataframe\">\n",
       "  <thead>\n",
       "    <tr style=\"text-align: right;\">\n",
       "      <th></th>\n",
       "      <th>timestamp</th>\n",
       "      <th>accX</th>\n",
       "      <th>accY</th>\n",
       "      <th>accZ</th>\n",
       "      <th>class</th>\n",
       "    </tr>\n",
       "  </thead>\n",
       "  <tbody>\n",
       "    <tr>\n",
       "      <th>0</th>\n",
       "      <td>90380.0</td>\n",
       "      <td>1807</td>\n",
       "      <td>2267</td>\n",
       "      <td>1857</td>\n",
       "      <td>5</td>\n",
       "    </tr>\n",
       "    <tr>\n",
       "      <th>1</th>\n",
       "      <td>90381.0</td>\n",
       "      <td>1803</td>\n",
       "      <td>2267</td>\n",
       "      <td>1853</td>\n",
       "      <td>5</td>\n",
       "    </tr>\n",
       "    <tr>\n",
       "      <th>2</th>\n",
       "      <td>90382.0</td>\n",
       "      <td>1801</td>\n",
       "      <td>2265</td>\n",
       "      <td>1854</td>\n",
       "      <td>5</td>\n",
       "    </tr>\n",
       "    <tr>\n",
       "      <th>3</th>\n",
       "      <td>90383.0</td>\n",
       "      <td>1796</td>\n",
       "      <td>2264</td>\n",
       "      <td>1855</td>\n",
       "      <td>5</td>\n",
       "    </tr>\n",
       "    <tr>\n",
       "      <th>4</th>\n",
       "      <td>90384.0</td>\n",
       "      <td>1803</td>\n",
       "      <td>2269</td>\n",
       "      <td>1854</td>\n",
       "      <td>5</td>\n",
       "    </tr>\n",
       "  </tbody>\n",
       "</table>\n",
       "</div>"
      ],
      "text/plain": [
       "   timestamp  accX  accY  accZ  class\n",
       "0    90380.0  1807  2267  1857      5\n",
       "1    90381.0  1803  2267  1853      5\n",
       "2    90382.0  1801  2265  1854      5\n",
       "3    90383.0  1796  2264  1855      5\n",
       "4    90384.0  1803  2269  1854      5"
      ]
     },
     "execution_count": 132,
     "metadata": {},
     "output_type": "execute_result"
    }
   ],
   "source": [
    "dfTrain.head()"
   ]
  },
  {
   "cell_type": "code",
   "execution_count": 102,
   "id": "e01f9243",
   "metadata": {},
   "outputs": [],
   "source": [
    "#dfTest.drop(['timestamp'] , axis = 1 , inplace = True)"
   ]
  },
  {
   "cell_type": "code",
   "execution_count": 133,
   "id": "8bf5a153",
   "metadata": {},
   "outputs": [
    {
     "data": {
      "text/html": [
       "<div>\n",
       "<style scoped>\n",
       "    .dataframe tbody tr th:only-of-type {\n",
       "        vertical-align: middle;\n",
       "    }\n",
       "\n",
       "    .dataframe tbody tr th {\n",
       "        vertical-align: top;\n",
       "    }\n",
       "\n",
       "    .dataframe thead th {\n",
       "        text-align: right;\n",
       "    }\n",
       "</style>\n",
       "<table border=\"1\" class=\"dataframe\">\n",
       "  <thead>\n",
       "    <tr style=\"text-align: right;\">\n",
       "      <th></th>\n",
       "      <th>timestamp</th>\n",
       "      <th>accX</th>\n",
       "      <th>accY</th>\n",
       "      <th>accZ</th>\n",
       "      <th>class</th>\n",
       "    </tr>\n",
       "  </thead>\n",
       "  <tbody>\n",
       "    <tr>\n",
       "      <th>0</th>\n",
       "      <td>73200.0</td>\n",
       "      <td>1915</td>\n",
       "      <td>2359</td>\n",
       "      <td>1940</td>\n",
       "      <td>5</td>\n",
       "    </tr>\n",
       "    <tr>\n",
       "      <th>1</th>\n",
       "      <td>73201.0</td>\n",
       "      <td>1913</td>\n",
       "      <td>2352</td>\n",
       "      <td>1946</td>\n",
       "      <td>5</td>\n",
       "    </tr>\n",
       "    <tr>\n",
       "      <th>2</th>\n",
       "      <td>73202.0</td>\n",
       "      <td>1913</td>\n",
       "      <td>2349</td>\n",
       "      <td>1939</td>\n",
       "      <td>5</td>\n",
       "    </tr>\n",
       "    <tr>\n",
       "      <th>3</th>\n",
       "      <td>73203.0</td>\n",
       "      <td>1907</td>\n",
       "      <td>2353</td>\n",
       "      <td>1943</td>\n",
       "      <td>5</td>\n",
       "    </tr>\n",
       "    <tr>\n",
       "      <th>4</th>\n",
       "      <td>73204.0</td>\n",
       "      <td>1915</td>\n",
       "      <td>2347</td>\n",
       "      <td>1942</td>\n",
       "      <td>5</td>\n",
       "    </tr>\n",
       "  </tbody>\n",
       "</table>\n",
       "</div>"
      ],
      "text/plain": [
       "   timestamp  accX  accY  accZ  class\n",
       "0    73200.0  1915  2359  1940      5\n",
       "1    73201.0  1913  2352  1946      5\n",
       "2    73202.0  1913  2349  1939      5\n",
       "3    73203.0  1907  2353  1943      5\n",
       "4    73204.0  1915  2347  1942      5"
      ]
     },
     "execution_count": 133,
     "metadata": {},
     "output_type": "execute_result"
    }
   ],
   "source": [
    "dfTest.head()"
   ]
  },
  {
   "cell_type": "code",
   "execution_count": 134,
   "id": "8afe81c3",
   "metadata": {},
   "outputs": [
    {
     "data": {
      "text/plain": [
       "Index(['timestamp', 'accX', 'accY', 'accZ', 'class'], dtype='object')"
      ]
     },
     "execution_count": 134,
     "metadata": {},
     "output_type": "execute_result"
    }
   ],
   "source": [
    "dfTrain.columns"
   ]
  },
  {
   "cell_type": "code",
   "execution_count": 135,
   "id": "f00758a9",
   "metadata": {},
   "outputs": [
    {
     "data": {
      "text/plain": [
       "(1238406, 5)"
      ]
     },
     "execution_count": 135,
     "metadata": {},
     "output_type": "execute_result"
    }
   ],
   "source": [
    "dfTrain.shape"
   ]
  },
  {
   "cell_type": "code",
   "execution_count": 136,
   "id": "060d8378",
   "metadata": {},
   "outputs": [
    {
     "data": {
      "text/plain": [
       "(684771, 5)"
      ]
     },
     "execution_count": 136,
     "metadata": {},
     "output_type": "execute_result"
    }
   ],
   "source": [
    "dfTest.shape"
   ]
  },
  {
   "cell_type": "code",
   "execution_count": 137,
   "id": "a85866dc",
   "metadata": {},
   "outputs": [
    {
     "name": "stdout",
     "output_type": "stream",
     "text": [
      "[5 1 6 4 3 2 7]\n",
      "----------------------------------------\n",
      "1    426645\n",
      "7    342354\n",
      "4    232079\n",
      "3    142965\n",
      "5     34995\n",
      "6     31563\n",
      "2     27805\n",
      "Name: class, dtype: int64\n"
     ]
    }
   ],
   "source": [
    "print(dfTrain['class'].unique())\n",
    "print(\"----------------------------------------\")\n",
    "print(dfTrain['class'].value_counts())"
   ]
  },
  {
   "cell_type": "code",
   "execution_count": 108,
   "id": "f0118813",
   "metadata": {},
   "outputs": [
    {
     "data": {
      "image/png": "[encoded data removed]",
      "text/plain": [
       "<Figure size 936x432 with 1 Axes>"
      ]
     },
     "metadata": {},
     "output_type": "display_data"
    }
   ],
   "source": [
    "sns.set(rc={'figure.figsize':(13,6)})\n",
    "fig = sns.countplot(x = \"class\" , data = dfTrain)\n",
    "plt.xlabel(\"Activity\")\n",
    "plt.ylabel(\"Count\")\n",
    "plt.title(\"Activity Count\")\n",
    "plt.grid(True)\n",
    "plt.show(fig)"
   ]
  },
  {
   "cell_type": "code",
   "execution_count": 138,
   "id": "90d14e33",
   "metadata": {},
   "outputs": [
    {
     "name": "stdout",
     "output_type": "stream",
     "text": [
      "(1238406, 5) (684771, 5)\n"
     ]
    }
   ],
   "source": [
    "print(dfTrain.shape, dfTest.shape)"
   ]
  },
  {
   "cell_type": "code",
   "execution_count": 139,
   "id": "952e824c",
   "metadata": {},
   "outputs": [
    {
     "name": "stdout",
     "output_type": "stream",
     "text": [
      "[[0.5420415  0.43006204 0.55338383 0.45334636]\n",
      " [0.5420475  0.42893401 0.55338383 0.45236932]\n",
      " [0.5420535  0.42836999 0.55289519 0.45261358]\n",
      " ...\n",
      " [0.62642437 0.49548787 0.57341803 0.5       ]\n",
      " [0.62642437 0.49492386 0.57366235 0.49951148]\n",
      " [0.62642437 0.49746193 0.57292939 0.49926722]]\n"
     ]
    }
   ],
   "source": [
    "from sklearn.preprocessing import MinMaxScaler\n",
    "scaler = MinMaxScaler()\n",
    "scaler.fit(dfTrain.iloc[:,0:4])\n",
    "mat_train = scaler.transform(dfTrain.iloc[:,0:4])\n",
    "print(mat_train)"
   ]
  },
  {
   "cell_type": "code",
   "execution_count": 140,
   "id": "e4a98ac8",
   "metadata": {},
   "outputs": [
    {
     "name": "stdout",
     "output_type": "stream",
     "text": [
      "[[0.45046154 0.32437772 0.57600196 0.47360704]\n",
      " [0.45046769 0.32358751 0.5742913  0.47507331]\n",
      " [0.45047385 0.32358751 0.57355816 0.47336266]\n",
      " ...\n",
      " [0.98461538 0.32121691 0.57453568 0.49755621]\n",
      " [0.98461538 0.3180561  0.5742913  0.50048876]\n",
      " [0.98461538 0.32003161 0.57478006 0.49633431]]\n"
     ]
    }
   ],
   "source": [
    "scaler = MinMaxScaler()\n",
    "scaler.fit(dfTest.iloc[:,0:4])\n",
    "mat_test = scaler.transform(dfTest.iloc[:,0:4])\n",
    "print(mat_test)"
   ]
  },
  {
   "cell_type": "code",
   "execution_count": 141,
   "id": "237b01f6",
   "metadata": {},
   "outputs": [],
   "source": [
    "temp = []\n",
    "for i in dfTrain['class']:\n",
    "    if i == 1: temp.append(0)\n",
    "    if i == 2: temp.append(1)\n",
    "    if i == 3: temp.append(2)\n",
    "    if i == 4: temp.append(3)\n",
    "    if i == 5: temp.append(4)\n",
    "    if i == 6: temp.append(5)\n",
    "    if i == 7: temp.append(6)\n",
    "dfTrain[\"n_Activity\"] = temp"
   ]
  },
  {
   "cell_type": "code",
   "execution_count": 142,
   "id": "3707df70",
   "metadata": {},
   "outputs": [],
   "source": [
    "temp = []\n",
    "for i in dfTest['class']:\n",
    "    if i == 1: temp.append(0)\n",
    "    if i == 2: temp.append(1)\n",
    "    if i == 3: temp.append(2)\n",
    "    if i == 4: temp.append(3)\n",
    "    if i == 5: temp.append(4)\n",
    "    if i == 6: temp.append(5)\n",
    "    if i == 7: temp.append(6)\n",
    "dfTest[\"n_Activity\"] = temp"
   ]
  },
  {
   "cell_type": "code",
   "execution_count": 143,
   "id": "38d119f4",
   "metadata": {},
   "outputs": [],
   "source": [
    "dfTrain.drop([\"class\"] , axis = 1 , inplace = True)"
   ]
  },
  {
   "cell_type": "code",
   "execution_count": 144,
   "id": "25821c42",
   "metadata": {},
   "outputs": [],
   "source": [
    "dfTest.drop([\"class\"] , axis = 1 , inplace = True)"
   ]
  },
  {
   "cell_type": "code",
   "execution_count": 145,
   "id": "55314e91",
   "metadata": {},
   "outputs": [
    {
     "name": "stdout",
     "output_type": "stream",
     "text": [
      "(1238406, 5) (684771, 5)\n"
     ]
    }
   ],
   "source": [
    "print(dfTrain.shape, dfTest.shape)"
   ]
  },
  {
   "cell_type": "code",
   "execution_count": 146,
   "id": "4dcf145b",
   "metadata": {},
   "outputs": [],
   "source": [
    "from tensorflow.keras.utils import to_categorical\n",
    "y_train = to_categorical(dfTrain.n_Activity , num_classes=7)\n",
    "y_test = to_categorical(dfTest.n_Activity , num_classes=7)"
   ]
  },
  {
   "cell_type": "code",
   "execution_count": 147,
   "id": "ee0f39fc",
   "metadata": {},
   "outputs": [
    {
     "data": {
      "text/plain": [
       "array([[0., 0., 0., ..., 1., 0., 0.],\n",
       "       [0., 0., 0., ..., 1., 0., 0.],\n",
       "       [0., 0., 0., ..., 1., 0., 0.],\n",
       "       ...,\n",
       "       [0., 0., 0., ..., 0., 0., 1.],\n",
       "       [0., 0., 0., ..., 0., 0., 1.],\n",
       "       [0., 0., 0., ..., 0., 0., 1.]], dtype=float32)"
      ]
     },
     "execution_count": 147,
     "metadata": {},
     "output_type": "execute_result"
    }
   ],
   "source": [
    "y_train"
   ]
  },
  {
   "cell_type": "code",
   "execution_count": 148,
   "id": "016cdd0e",
   "metadata": {},
   "outputs": [
    {
     "data": {
      "text/plain": [
       "array([[0., 0., 0., ..., 1., 0., 0.],\n",
       "       [0., 0., 0., ..., 1., 0., 0.],\n",
       "       [0., 0., 0., ..., 1., 0., 0.],\n",
       "       ...,\n",
       "       [0., 0., 0., ..., 0., 0., 1.],\n",
       "       [0., 0., 0., ..., 0., 0., 1.],\n",
       "       [0., 0., 0., ..., 0., 0., 1.]], dtype=float32)"
      ]
     },
     "execution_count": 148,
     "metadata": {},
     "output_type": "execute_result"
    }
   ],
   "source": [
    "y_test"
   ]
  },
  {
   "cell_type": "code",
   "execution_count": 149,
   "id": "c4f4e71a",
   "metadata": {},
   "outputs": [],
   "source": [
    "X_train = mat_train \n",
    "X_test = mat_test"
   ]
  },
  {
   "cell_type": "code",
   "execution_count": 150,
   "id": "99d71f99",
   "metadata": {},
   "outputs": [
    {
     "name": "stdout",
     "output_type": "stream",
     "text": [
      "(1238406, 4) (1238406, 7)\n",
      "(684771, 4) (684771, 7)\n"
     ]
    }
   ],
   "source": [
    "print(X_train.shape , y_train.shape)\n",
    "print(X_test.shape , y_test.shape)"
   ]
  },
  {
   "cell_type": "code",
   "execution_count": 151,
   "id": "43f52233",
   "metadata": {},
   "outputs": [
    {
     "name": "stdout",
     "output_type": "stream",
     "text": [
      "WARNING:tensorflow:`epsilon` argument is deprecated and will be removed, use `min_delta` instead.\n"
     ]
    }
   ],
   "source": [
    "filepath=\"HARXYZ_weights.hdf5\"\n",
    "from tensorflow.keras.callbacks import ReduceLROnPlateau , ModelCheckpoint\n",
    "\n",
    "lr_reduce = ReduceLROnPlateau(monitor='val_accuracy', factor=0.1, epsilon=0.0001, patience=1, verbose=1)\n",
    "checkpoint = ModelCheckpoint(filepath, monitor='val_accuracy', verbose=1, save_best_only=True, mode='max')"
   ]
  },
  {
   "cell_type": "code",
   "execution_count": 152,
   "id": "2a71467f",
   "metadata": {},
   "outputs": [],
   "source": [
    "from tensorflow.keras.models import Sequential\n",
    "from keras.layers import Dense, Dropout , BatchNormalization\n",
    "from sklearn.model_selection import train_test_split\n",
    "from tensorflow.keras.optimizers import RMSprop, Adam\n",
    "#from tensorflow.keras.utils import np_utils"
   ]
  },
  {
   "cell_type": "code",
   "execution_count": 155,
   "id": "2daab4f2",
   "metadata": {},
   "outputs": [
    {
     "name": "stdout",
     "output_type": "stream",
     "text": [
      "Model: \"sequential_3\"\n",
      "_________________________________________________________________\n",
      "Layer (type)                 Output Shape              Param #   \n",
      "=================================================================\n",
      "dense_18 (Dense)             (None, 64)                320       \n",
      "_________________________________________________________________\n",
      "dense_19 (Dense)             (None, 64)                4160      \n",
      "_________________________________________________________________\n",
      "batch_normalization_3 (Batch (None, 64)                256       \n",
      "_________________________________________________________________\n",
      "dense_20 (Dense)             (None, 128)               8320      \n",
      "_________________________________________________________________\n",
      "dense_21 (Dense)             (None, 196)               25284     \n",
      "_________________________________________________________________\n",
      "dense_22 (Dense)             (None, 32)                6304      \n",
      "_________________________________________________________________\n",
      "dense_23 (Dense)             (None, 7)                 231       \n",
      "=================================================================\n",
      "Total params: 44,875\n",
      "Trainable params: 44,747\n",
      "Non-trainable params: 128\n",
      "_________________________________________________________________\n",
      "None\n"
     ]
    }
   ],
   "source": [
    "model = Sequential()\n",
    "\n",
    "model.add(Dense(64, input_dim=X_train.shape[1] , activation='relu'))\n",
    "model.add(Dense(64, activation='relu'))\n",
    "model.add(BatchNormalization())\n",
    "model.add(Dense(128, activation='relu'))\n",
    "model.add(Dense(196, activation='relu'))\n",
    "model.add(Dense(32, activation='relu'))\n",
    "model.add(Dense(7, activation='sigmoid'))\n",
    "\n",
    "model.compile(optimizer = Adam(lr = 0.0005),loss='categorical_crossentropy', metrics=['accuracy'])\n",
    "print(model.summary())"
   ]
  },
  {
   "cell_type": "code",
   "execution_count": 156,
   "id": "7ed11ff5",
   "metadata": {},
   "outputs": [
    {
     "name": "stdout",
     "output_type": "stream",
     "text": [
      "Epoch 1/22\n",
      "9676/9676 [==============================] - 16s 2ms/step - loss: 0.3152 - accuracy: 0.8844 - val_loss: 2.6482 - val_accuracy: 0.6727\n",
      "\n",
      "Epoch 00001: val_accuracy improved from -inf to 0.67272, saving model to HARXYZ_weights.hdf5\n",
      "Epoch 2/22\n",
      "9676/9676 [==============================] - 16s 2ms/step - loss: 0.2152 - accuracy: 0.9187 - val_loss: 3.2354 - val_accuracy: 0.6557\n",
      "\n",
      "Epoch 00002: val_accuracy did not improve from 0.67272\n",
      "\n",
      "Epoch 00002: ReduceLROnPlateau reducing learning rate to 5.0000002374872565e-05.\n",
      "Epoch 3/22\n",
      "9676/9676 [==============================] - 16s 2ms/step - loss: 0.1702 - accuracy: 0.9376 - val_loss: 3.7686 - val_accuracy: 0.6407\n",
      "\n",
      "Epoch 00003: val_accuracy did not improve from 0.67272\n",
      "\n",
      "Epoch 00003: ReduceLROnPlateau reducing learning rate to 5.000000237487257e-06.\n",
      "Epoch 4/22\n",
      "9676/9676 [==============================] - 16s 2ms/step - loss: 0.1638 - accuracy: 0.9404 - val_loss: 3.6917 - val_accuracy: 0.6479\n",
      "\n",
      "Epoch 00004: val_accuracy did not improve from 0.67272\n",
      "\n",
      "Epoch 00004: ReduceLROnPlateau reducing learning rate to 5.000000328436726e-07.\n",
      "Epoch 5/22\n",
      "9676/9676 [==============================] - 16s 2ms/step - loss: 0.1626 - accuracy: 0.9409 - val_loss: 3.6911 - val_accuracy: 0.6479\n",
      "\n",
      "Epoch 00005: val_accuracy did not improve from 0.67272\n",
      "\n",
      "Epoch 00005: ReduceLROnPlateau reducing learning rate to 5.000000555810402e-08.\n",
      "Epoch 6/22\n",
      "9676/9676 [==============================] - 16s 2ms/step - loss: 0.1634 - accuracy: 0.9406 - val_loss: 3.7142 - val_accuracy: 0.6475\n",
      "\n",
      "Epoch 00006: val_accuracy did not improve from 0.67272\n",
      "\n",
      "Epoch 00006: ReduceLROnPlateau reducing learning rate to 5.000000413701855e-09.\n",
      "Epoch 7/22\n",
      "9676/9676 [==============================] - 17s 2ms/step - loss: 0.1631 - accuracy: 0.9407 - val_loss: 3.6976 - val_accuracy: 0.6484\n",
      "\n",
      "Epoch 00007: val_accuracy did not improve from 0.67272\n",
      "\n",
      "Epoch 00007: ReduceLROnPlateau reducing learning rate to 5.000000413701855e-10.\n",
      "Epoch 8/22\n",
      "9676/9676 [==============================] - 16s 2ms/step - loss: 0.1632 - accuracy: 0.9407 - val_loss: 3.7004 - val_accuracy: 0.6482\n",
      "\n",
      "Epoch 00008: val_accuracy did not improve from 0.67272\n",
      "\n",
      "Epoch 00008: ReduceLROnPlateau reducing learning rate to 5.000000413701855e-11.\n",
      "Epoch 9/22\n",
      "9676/9676 [==============================] - 17s 2ms/step - loss: 0.1632 - accuracy: 0.9404 - val_loss: 3.6955 - val_accuracy: 0.6480\n",
      "\n",
      "Epoch 00009: val_accuracy did not improve from 0.67272\n",
      "\n",
      "Epoch 00009: ReduceLROnPlateau reducing learning rate to 5.000000413701855e-12.\n",
      "Epoch 10/22\n",
      "9676/9676 [==============================] - 16s 2ms/step - loss: 0.1629 - accuracy: 0.9405 - val_loss: 3.7035 - val_accuracy: 0.6487\n",
      "\n",
      "Epoch 00010: val_accuracy did not improve from 0.67272\n",
      "\n",
      "Epoch 00010: ReduceLROnPlateau reducing learning rate to 5.000000413701855e-13.\n",
      "Epoch 11/22\n",
      "9676/9676 [==============================] - 16s 2ms/step - loss: 0.1630 - accuracy: 0.9407 - val_loss: 3.7083 - val_accuracy: 0.6488\n",
      "\n",
      "Epoch 00011: val_accuracy did not improve from 0.67272\n",
      "\n",
      "Epoch 00011: ReduceLROnPlateau reducing learning rate to 5.0000005221220725e-14.\n",
      "Epoch 12/22\n",
      "9676/9676 [==============================] - 16s 2ms/step - loss: 0.1629 - accuracy: 0.9407 - val_loss: 3.7104 - val_accuracy: 0.6478\n",
      "\n",
      "Epoch 00012: val_accuracy did not improve from 0.67272\n",
      "\n",
      "Epoch 00012: ReduceLROnPlateau reducing learning rate to 5.000000589884709e-15.\n",
      "Epoch 13/22\n",
      "9676/9676 [==============================] - 16s 2ms/step - loss: 0.1625 - accuracy: 0.9408 - val_loss: 3.7068 - val_accuracy: 0.6483\n",
      "\n",
      "Epoch 00013: val_accuracy did not improve from 0.67272\n",
      "\n",
      "Epoch 00013: ReduceLROnPlateau reducing learning rate to 5.000000759291298e-16.\n",
      "Epoch 14/22\n",
      "9676/9676 [==============================] - 16s 2ms/step - loss: 0.1629 - accuracy: 0.9406 - val_loss: 3.7133 - val_accuracy: 0.6476\n",
      "\n",
      "Epoch 00014: val_accuracy did not improve from 0.67272\n",
      "\n",
      "Epoch 00014: ReduceLROnPlateau reducing learning rate to 5.000000547533061e-17.\n",
      "Epoch 15/22\n",
      "9676/9676 [==============================] - 16s 2ms/step - loss: 0.1630 - accuracy: 0.9407 - val_loss: 3.6948 - val_accuracy: 0.6495\n",
      "\n",
      "Epoch 00015: val_accuracy did not improve from 0.67272\n",
      "\n",
      "Epoch 00015: ReduceLROnPlateau reducing learning rate to 5.000000415184163e-18.\n",
      "Epoch 16/22\n",
      "9676/9676 [==============================] - 16s 2ms/step - loss: 0.1628 - accuracy: 0.9408 - val_loss: 3.6900 - val_accuracy: 0.6487\n",
      "\n",
      "Epoch 00016: val_accuracy did not improve from 0.67272\n",
      "\n",
      "Epoch 00016: ReduceLROnPlateau reducing learning rate to 5.000000332466102e-19.\n",
      "Epoch 17/22\n",
      "9676/9676 [==============================] - 16s 2ms/step - loss: 0.1628 - accuracy: 0.9408 - val_loss: 3.6896 - val_accuracy: 0.6489\n",
      "\n",
      "Epoch 00017: val_accuracy did not improve from 0.67272\n",
      "\n",
      "Epoch 00017: ReduceLROnPlateau reducing learning rate to 5.000000229068525e-20.\n",
      "Epoch 18/22\n",
      "9676/9676 [==============================] - 16s 2ms/step - loss: 0.1631 - accuracy: 0.9407 - val_loss: 3.6988 - val_accuracy: 0.6487\n",
      "\n",
      "Epoch 00018: val_accuracy did not improve from 0.67272\n",
      "\n",
      "Epoch 00018: ReduceLROnPlateau reducing learning rate to 5.00000016444504e-21.\n",
      "Epoch 19/22\n",
      "9676/9676 [==============================] - 16s 2ms/step - loss: 0.1630 - accuracy: 0.9405 - val_loss: 3.6859 - val_accuracy: 0.6488\n",
      "\n",
      "Epoch 00019: val_accuracy did not improve from 0.67272\n",
      "\n",
      "Epoch 00019: ReduceLROnPlateau reducing learning rate to 5.000000245224397e-22.\n",
      "Epoch 20/22\n",
      "9676/9676 [==============================] - 16s 2ms/step - loss: 0.1631 - accuracy: 0.9405 - val_loss: 3.7035 - val_accuracy: 0.6473\n",
      "\n",
      "Epoch 00020: val_accuracy did not improve from 0.67272\n",
      "\n",
      "Epoch 00020: ReduceLROnPlateau reducing learning rate to 5.0000003461985925e-23.\n",
      "Epoch 21/22\n",
      "9676/9676 [==============================] - 16s 2ms/step - loss: 0.1628 - accuracy: 0.9406 - val_loss: 3.6870 - val_accuracy: 0.6478\n",
      "\n",
      "Epoch 00021: val_accuracy did not improve from 0.67272\n",
      "\n",
      "Epoch 00021: ReduceLROnPlateau reducing learning rate to 5.000000472416337e-24.\n",
      "Epoch 22/22\n",
      "9676/9676 [==============================] - 16s 2ms/step - loss: 0.1630 - accuracy: 0.9404 - val_loss: 3.6992 - val_accuracy: 0.6487\n",
      "\n",
      "Epoch 00022: val_accuracy did not improve from 0.67272\n",
      "\n",
      "Epoch 00022: ReduceLROnPlateau reducing learning rate to 5.000000393530247e-25.\n"
     ]
    }
   ],
   "source": [
    "history = model.fit(X_train, y_train , epochs=22 , batch_size = 128 , validation_data=(X_test, y_test) , callbacks=[checkpoint,lr_reduce])"
   ]
  },
  {
   "cell_type": "code",
   "execution_count": 157,
   "id": "0a23f78f",
   "metadata": {},
   "outputs": [
    {
     "data": {
      "image/png": "[encoded data removed]",
      "text/plain": [
       "<Figure size 720x288 with 1 Axes>"
      ]
     },
     "metadata": {},
     "output_type": "display_data"
    },
    {
     "data": {
      "image/png": "[encoded data removed]",
      "text/plain": [
       "<Figure size 720x288 with 1 Axes>"
      ]
     },
     "metadata": {},
     "output_type": "display_data"
    }
   ],
   "source": [
    "from pylab import rcParams\n",
    "rcParams['figure.figsize'] = 10, 4\n",
    "plt.plot(history.history['accuracy'])\n",
    "plt.plot(history.history['val_accuracy'])\n",
    "plt.title('model accuracy')\n",
    "plt.ylabel('accuracy')\n",
    "plt.xlabel('epoch')\n",
    "plt.legend(['train', 'test'], loc='upper left')\n",
    "plt.show()\n",
    "# summarize history for loss\n",
    "plt.plot(history.history['loss'])\n",
    "plt.plot(history.history['val_loss'])\n",
    "plt.title('model loss')\n",
    "plt.ylabel('loss')\n",
    "plt.xlabel('epoch')\n",
    "plt.legend(['train', 'test'], loc='upper left')\n",
    "plt.show()"
   ]
  },
  {
   "cell_type": "code",
   "execution_count": 158,
   "id": "461b69df",
   "metadata": {},
   "outputs": [],
   "source": [
    "from sklearn.metrics import confusion_matrix\n",
    "model.load_weights(\"HARXYZ_weights.hdf5\")\n",
    "pred = model.predict(X_test)\n",
    "pred = np.argmax(pred,axis = 1) \n",
    "y_true = np.argmax(y_test,axis = 1)"
   ]
  },
  {
   "cell_type": "code",
   "execution_count": 159,
   "id": "83b0ecd3",
   "metadata": {},
   "outputs": [
    {
     "data": {
      "image/png": "[encoded data removed]",
      "text/plain": [
       "<Figure size 720x360 with 1 Axes>"
      ]
     },
     "metadata": {},
     "output_type": "display_data"
    }
   ],
   "source": [
    "CM = confusion_matrix(y_true, pred)\n",
    "from mlxtend.plotting import plot_confusion_matrix\n",
    "fig, ax = plot_confusion_matrix(conf_mat=CM ,  figsize=(10, 5))\n",
    "plt.show()"
   ]
  },
  {
   "cell_type": "code",
   "execution_count": 160,
   "id": "33dacc15",
   "metadata": {},
   "outputs": [
    {
     "name": "stdout",
     "output_type": "stream",
     "text": [
      "              precision    recall  f1-score   support\n",
      "\n",
      "           0       0.79      0.99      0.88    182022\n",
      "           1       0.07      0.04      0.05     20073\n",
      "           2       0.18      0.21      0.19     73772\n",
      "           3       0.50      0.45      0.48    124985\n",
      "           4       0.02      0.03      0.02     16503\n",
      "           5       0.00      0.00      0.00     16207\n",
      "           6       0.95      0.82      0.88    251209\n",
      "\n",
      "    accuracy                           0.67    684771\n",
      "   macro avg       0.36      0.36      0.36    684771\n",
      "weighted avg       0.67      0.67      0.67    684771\n",
      "\n"
     ]
    }
   ],
   "source": [
    "from sklearn.metrics import classification_report , accuracy_score\n",
    "print(classification_report(y_true, pred))"
   ]
  },
  {
   "cell_type": "code",
   "execution_count": 162,
   "id": "2cc396c3",
   "metadata": {},
   "outputs": [],
   "source": [
    "d = { \"Index\":np.arange(684771) , \"Activity\":pred }\n",
    "final = pd.DataFrame(d)\n",
    "final.to_csv( 'human_activity_predictionsXYZ.csv' , index = False)"
   ]
  },
  {
   "cell_type": "code",
   "execution_count": null,
   "id": "a6e79c85",
   "metadata": {},
   "outputs": [],
   "source": []
  }
 ],
 "metadata": {
  "kernelspec": {
   "display_name": "Python 3",
   "language": "python",
   "name": "python3"
  },
  "language_info": {
   "codemirror_mode": {
    "name": "ipython",
    "version": 3
   },
   "file_extension": ".py",
   "mimetype": "text/x-python",
   "name": "python",
   "nbconvert_exporter": "python",
   "pygments_lexer": "ipython3",
   "version": "3.8.10"
  }
 },
 "nbformat": 4,
 "nbformat_minor": 5
}
